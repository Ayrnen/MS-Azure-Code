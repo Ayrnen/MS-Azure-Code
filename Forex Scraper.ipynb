{
 "cells": [
  {
   "cell_type": "code",
   "execution_count": 1,
   "id": "5dbedd94-425b-421a-a9aa-ced70833413f",
   "metadata": {},
   "outputs": [],
   "source": [
    "import requests\n",
    "import pandas as pd\n",
    "import numpy as np"
   ]
  },
  {
   "cell_type": "code",
   "execution_count": 2,
   "id": "c7f2d15b-ab6e-4fa1-bdfe-b1edc699cb5c",
   "metadata": {
    "tags": []
   },
   "outputs": [],
   "source": [
    "currencyList = ['USD', 'EUR', 'JPY', 'CNY', 'SGD', 'INR', 'IDR', 'TND']\n",
    "cryptoList = ['BTC', 'ETH', 'BNB', 'XRP']\n",
    "stableList = ['USDT', 'BUSD', 'USDC']"
   ]
  },
  {
   "cell_type": "code",
   "execution_count": 3,
   "id": "286659f2-040d-4efa-8354-9066b3ba0377",
   "metadata": {},
   "outputs": [],
   "source": [
    "apiKey = 'MNN5NS48BD32DRE8'"
   ]
  },
  {
   "cell_type": "code",
   "execution_count": 14,
   "id": "7686a12b-0a9d-428d-8106-8aa2954226b2",
   "metadata": {},
   "outputs": [
    {
     "name": "stdout",
     "output_type": "stream",
     "text": [
      "{'Realtime Currency Exchange Rate': {'1. From_Currency Code': 'USD', '2. From_Currency Name': 'United States Dollar', '3. To_Currency Code': 'TND', '4. To_Currency Name': 'Tunisian Dinar', '5. Exchange Rate': '3.14850000', '6. Last Refreshed': '2022-12-18 20:20:54', '7. Time Zone': 'UTC', '8. Bid Price': '3.14850000', '9. Ask Price': '3.14850000'}}\n",
      "{'1. From_Currency Code': 'USDT', '2. From_Currency Name': 'Tether', '3. To_Currency Code': 'TND', '4. To_Currency Name': 'Tunisian Dinar', '5. Exchange Rate': '3.15671737', '6. Last Refreshed': '2022-12-18 20:20:17', '7. Time Zone': 'UTC', '8. Bid Price': '3.15671737', '9. Ask Price': '3.15671737'}\n"
     ]
    }
   ],
   "source": [
    "base = 'USD'\n",
    "to = 'TND'\n",
    "url = f'https://www.alphavantage.co/query?function=CURRENCY_EXCHANGE_RATE&from_currency={base}&to_currency={to}&apikey={apiKey}'\n",
    "response = requests.get(url)\n",
    "data = response.json()\n",
    "print(data)\n",
    "base = 'USDT'\n",
    "to = 'TND'\n",
    "url = f'https://www.alphavantage.co/query?function=CURRENCY_EXCHANGE_RATE&from_currency={base}&to_currency={to}&apikey={apiKey}'\n",
    "response = requests.get(url)\n",
    "data = response.json()\n",
    "print(data['Realtime Currency Exchange Rate'])"
   ]
  },
  {
   "cell_type": "code",
   "execution_count": 8,
   "id": "7a2bbf45-18a5-490f-b823-10b75fbbf5a0",
   "metadata": {},
   "outputs": [],
   "source": [
    "# crypto = 'USDT'\n",
    "# fiat = 'USD'\n",
    "# url = f'https://www.alphavantage.co/query?function=DIGITAL_CURRENCY_DAILY&symbol={crypto}&market={fiat}&apikey={apiKey}'\n",
    "# # url = f'https://www.alphavantage.co/query?function=DIGITAL_CURRENCY_DAILY&symbol=BTC&market=CNY&apikey=demo'\n",
    "# response = requests.get(url)\n",
    "# data = response.json()\n",
    "# print(data)"
   ]
  },
  {
   "cell_type": "code",
   "execution_count": 15,
   "id": "c6f2162d-e1c8-4016-b446-2fdee5aa6304",
   "metadata": {},
   "outputs": [],
   "source": [
    "entry = [\n",
    "    data['Realtime Currency Exchange Rate']['6. Last Refreshed'],\n",
    "    data['Realtime Currency Exchange Rate']['7. Time Zone'],\n",
    "    data['Realtime Currency Exchange Rate']['3. To_Currency Code'],\n",
    "    float(data['Realtime Currency Exchange Rate']['5. Exchange Rate']),\n",
    "    float(data['Realtime Currency Exchange Rate']['8. Bid Price']),\n",
    "    float(data['Realtime Currency Exchange Rate']['9. Ask Price']),\n",
    "]"
   ]
  },
  {
   "cell_type": "code",
   "execution_count": 16,
   "id": "b0f39c06-6400-44fb-8474-117e4dedb7d6",
   "metadata": {},
   "outputs": [
    {
     "name": "stdout",
     "output_type": "stream",
     "text": [
      "['2022-12-18 20:20:17', 'UTC', 'TND', 3.15671737, 3.15671737, 3.15671737]\n"
     ]
    }
   ],
   "source": [
    "print(entry)"
   ]
  }
 ],
 "metadata": {
  "kernelspec": {
   "display_name": "Python 3",
   "language": "python",
   "name": "python3"
  },
  "language_info": {
   "codemirror_mode": {
    "name": "ipython",
    "version": 3
   },
   "file_extension": ".py",
   "mimetype": "text/x-python",
   "name": "python",
   "nbconvert_exporter": "python",
   "pygments_lexer": "ipython3",
   "version": "3.9.4"
  }
 },
 "nbformat": 4,
 "nbformat_minor": 5
}
