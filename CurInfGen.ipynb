{
 "cells": [
  {
   "cell_type": "code",
   "execution_count": 1,
   "id": "824e1e08-0a95-445a-81fa-6089f1e8463a",
   "metadata": {},
   "outputs": [],
   "source": [
    "import requests\n",
    "import pandas as pd\n",
    "import numpy as np"
   ]
  },
  {
   "cell_type": "code",
   "execution_count": 2,
   "id": "cc986dd6-4135-420c-bc00-aaa2b89e7422",
   "metadata": {},
   "outputs": [],
   "source": [
    "currencyList = ['USD', 'TRY', 'JPY', 'CNY', 'IDR', 'SGD', 'INR', 'TND', 'PKR', 'NGN', 'EUR']\n",
    "cryptoList = ['BTC', 'ETH', 'BNB', 'XRP']\n",
    "stableList = ['USDT', 'BUSD', 'USDC']\n",
    "entries = []"
   ]
  },
  {
   "cell_type": "code",
   "execution_count": 3,
   "id": "203760a1-4d22-4f7b-851d-2d2ebf6ac8f3",
   "metadata": {},
   "outputs": [],
   "source": [
    "apiKey = 'MNN5NS48BD32DRE8'"
   ]
  },
  {
   "cell_type": "code",
   "execution_count": 4,
   "id": "5e1eb751-59f2-4e76-b38e-5ffe75007156",
   "metadata": {},
   "outputs": [],
   "source": [
    "def Data(b, t, api):\n",
    "    base = b\n",
    "    to = t\n",
    "    apiKey = api\n",
    "    \n",
    "    url = f'https://www.alphavantage.co/query?function=CURRENCY_EXCHANGE_RATE&from_currency={base}&to_currency={to}&apikey={apiKey}'\n",
    "    response = requests.get(url)\n",
    "    data = response.json()\n",
    "    \n",
    "    print(data)\n",
    "    return data\n",
    "\n",
    "def Entry(data):\n",
    "    if data['Realtime Currency Exchange Rate']['1. From_Currency Code'] in currencyList:\n",
    "        currencyType = 'Fiat'\n",
    "    elif data['Realtime Currency Exchange Rate']['1. From_Currency Code'] in cryptoList:\n",
    "        currencyType = 'Crypto'\n",
    "    else:\n",
    "        currencyType = 'Stable'\n",
    "    entry = [\n",
    "        data['Realtime Currency Exchange Rate']['1. From_Currency Code'],\n",
    "        data['Realtime Currency Exchange Rate']['2. From_Currency Name'],\n",
    "        currencyType\n",
    "    ]\n",
    "    \n",
    "    return entry"
   ]
  },
  {
   "cell_type": "code",
   "execution_count": 5,
   "id": "970e8a0f-2ecf-4dae-91b7-4f0eff7f5e88",
   "metadata": {},
   "outputs": [
    {
     "name": "stdout",
     "output_type": "stream",
     "text": [
      "{'Realtime Currency Exchange Rate': {'1. From_Currency Code': 'TRY', '2. From_Currency Name': 'Turkish Lira', '3. To_Currency Code': 'USD', '4. To_Currency Name': 'United States Dollar', '5. Exchange Rate': '0.05341652', '6. Last Refreshed': '2023-01-02 13:35:01', '7. Time Zone': 'UTC', '8. Bid Price': '0.05341526', '9. Ask Price': '0.05341725'}}\n",
      "{'Realtime Currency Exchange Rate': {'1. From_Currency Code': 'JPY', '2. From_Currency Name': 'Japanese Yen', '3. To_Currency Code': 'USD', '4. To_Currency Name': 'United States Dollar', '5. Exchange Rate': '0.00765591', '6. Last Refreshed': '2023-01-02 13:35:01', '7. Time Zone': 'UTC', '8. Bid Price': '0.00765582', '9. Ask Price': '0.00765593'}}\n",
      "{'Realtime Currency Exchange Rate': {'1. From_Currency Code': 'CNY', '2. From_Currency Name': 'Chinese Yuan', '3. To_Currency Code': 'USD', '4. To_Currency Name': 'United States Dollar', '5. Exchange Rate': '0.14498848', '6. Last Refreshed': '2023-01-02 13:35:01', '7. Time Zone': 'UTC', '8. Bid Price': '0.14498494', '9. Ask Price': '0.14499489'}}\n",
      "{'Realtime Currency Exchange Rate': {'1. From_Currency Code': 'IDR', '2. From_Currency Name': 'Indonesian Rupiah', '3. To_Currency Code': 'USD', '4. To_Currency Name': 'United States Dollar', '5. Exchange Rate': '0.00006423', '6. Last Refreshed': '2023-01-02 13:35:01', '7. Time Zone': 'UTC', '8. Bid Price': '0.00006423', '9. Ask Price': '0.00006423'}}\n",
      "{'Realtime Currency Exchange Rate': {'1. From_Currency Code': 'SGD', '2. From_Currency Name': 'Singapore Dollar', '3. To_Currency Code': 'USD', '4. To_Currency Name': 'United States Dollar', '5. Exchange Rate': '0.74559540', '6. Last Refreshed': '2023-01-02 13:35:01', '7. Time Zone': 'UTC', '8. Bid Price': '0.74556289', '9. Ask Price': '0.74560576'}}\n"
     ]
    }
   ],
   "source": [
    "for fiat in currencyList[1:6]:\n",
    "    data = Data(fiat, 'USD', apiKey)\n",
    "    entries.append(Entry(data))"
   ]
  },
  {
   "cell_type": "code",
   "execution_count": 6,
   "id": "9d6d2832-fdbc-4818-aae0-0da44e1e5f60",
   "metadata": {},
   "outputs": [
    {
     "name": "stdout",
     "output_type": "stream",
     "text": [
      "{'Realtime Currency Exchange Rate': {'1. From_Currency Code': 'INR', '2. From_Currency Name': 'Indian Rupee', '3. To_Currency Code': 'USD', '4. To_Currency Name': 'United States Dollar', '5. Exchange Rate': '0.01208824', '6. Last Refreshed': '2023-01-02 13:36:51', '7. Time Zone': 'UTC', '8. Bid Price': '0.01208801', '9. Ask Price': '0.01208878'}}\n",
      "{'Realtime Currency Exchange Rate': {'1. From_Currency Code': 'TND', '2. From_Currency Name': 'Tunisian Dinar', '3. To_Currency Code': 'USD', '4. To_Currency Name': 'United States Dollar', '5. Exchange Rate': '0.32216495', '6. Last Refreshed': '2023-01-02 13:36:53', '7. Time Zone': 'UTC', '8. Bid Price': '0.32216070', '9. Ask Price': '0.32217239'}}\n",
      "{'Realtime Currency Exchange Rate': {'1. From_Currency Code': 'PKR', '2. From_Currency Name': 'Pakistani Rupee', '3. To_Currency Code': 'USD', '4. To_Currency Name': 'United States Dollar', '5. Exchange Rate': '0.00441611', '6. Last Refreshed': '2023-01-02 13:36:53', '7. Time Zone': 'UTC', '8. Bid Price': '0.00441594', '9. Ask Price': '0.00441625'}}\n",
      "{'Realtime Currency Exchange Rate': {'1. From_Currency Code': 'NGN', '2. From_Currency Name': 'Nigerian Naira', '3. To_Currency Code': 'USD', '4. To_Currency Name': 'United States Dollar', '5. Exchange Rate': '0.00223434', '6. Last Refreshed': '2023-01-02 13:36:54', '7. Time Zone': 'UTC', '8. Bid Price': '0.00223426', '9. Ask Price': '0.00223435'}}\n",
      "{'Realtime Currency Exchange Rate': {'1. From_Currency Code': 'EUR', '2. From_Currency Name': 'Euro', '3. To_Currency Code': 'USD', '4. To_Currency Name': 'United States Dollar', '5. Exchange Rate': '1.06871860', '6. Last Refreshed': '2023-01-02 13:36:41', '7. Time Zone': 'UTC', '8. Bid Price': '1.06871512', '9. Ask Price': '1.06874852'}}\n"
     ]
    }
   ],
   "source": [
    "for fiat in currencyList[6:]:\n",
    "    data = Data(fiat, 'USD', apiKey)\n",
    "    entries.append(Entry(data))"
   ]
  },
  {
   "cell_type": "code",
   "execution_count": 8,
   "id": "d9646d0e-d61c-43f3-b166-2264de2f584a",
   "metadata": {},
   "outputs": [
    {
     "name": "stdout",
     "output_type": "stream",
     "text": [
      "{'Realtime Currency Exchange Rate': {'1. From_Currency Code': 'BTC', '2. From_Currency Name': 'Bitcoin', '3. To_Currency Code': 'USD', '4. To_Currency Name': 'United States Dollar', '5. Exchange Rate': '16710.32000000', '6. Last Refreshed': '2023-01-02 13:37:01', '7. Time Zone': 'UTC', '8. Bid Price': '16709.68000000', '9. Ask Price': '16710.30000000'}}\n",
      "{'Realtime Currency Exchange Rate': {'1. From_Currency Code': 'ETH', '2. From_Currency Name': 'Ethereum', '3. To_Currency Code': 'USD', '4. To_Currency Name': 'United States Dollar', '5. Exchange Rate': '1215.31000000', '6. Last Refreshed': '2023-01-02 13:37:01', '7. Time Zone': 'UTC', '8. Bid Price': '1215.31000000', '9. Ask Price': '1215.32000000'}}\n",
      "{'Realtime Currency Exchange Rate': {'1. From_Currency Code': 'BNB', '2. From_Currency Name': 'Binance-Coin', '3. To_Currency Code': 'USD', '4. To_Currency Name': 'United States Dollar', '5. Exchange Rate': '247.13082623', '6. Last Refreshed': '2023-01-02 13:37:03', '7. Time Zone': 'UTC', '8. Bid Price': '247.12289333', '9. Ask Price': '247.13386594'}}\n",
      "{'Realtime Currency Exchange Rate': {'1. From_Currency Code': 'XRP', '2. From_Currency Name': 'Ripple', '3. To_Currency Code': 'USD', '4. To_Currency Name': 'United States Dollar', '5. Exchange Rate': '0.34400000', '6. Last Refreshed': '2023-01-02 13:37:01', '7. Time Zone': 'UTC', '8. Bid Price': '0.34400000', '9. Ask Price': '0.34410000'}}\n"
     ]
    }
   ],
   "source": [
    "for crypto in cryptoList:\n",
    "    data = Data(crypto, 'USD', apiKey)\n",
    "    entries.append(Entry(data))"
   ]
  },
  {
   "cell_type": "code",
   "execution_count": 9,
   "id": "2a81634f-5135-4c99-87e9-0b213dccdbaa",
   "metadata": {},
   "outputs": [
    {
     "name": "stdout",
     "output_type": "stream",
     "text": [
      "{'Realtime Currency Exchange Rate': {'1. From_Currency Code': 'USDT', '2. From_Currency Name': 'Tether', '3. To_Currency Code': 'USD', '4. To_Currency Name': 'United States Dollar', '5. Exchange Rate': '0.99975959', '6. Last Refreshed': '2023-01-02 13:38:01', '7. Time Zone': 'UTC', '8. Bid Price': '0.99971585', '9. Ask Price': '0.99978848'}}\n",
      "{'Realtime Currency Exchange Rate': {'1. From_Currency Code': 'BUSD', '2. From_Currency Name': 'Binance-USD', '3. To_Currency Code': 'USD', '4. To_Currency Name': 'United States Dollar', '5. Exchange Rate': '1.00040000', '6. Last Refreshed': '2023-01-02 13:38:50', '7. Time Zone': 'UTC', '8. Bid Price': '1.00030000', '9. Ask Price': '1.00040000'}}\n",
      "{'Realtime Currency Exchange Rate': {'1. From_Currency Code': 'USDC', '2. From_Currency Name': None, '3. To_Currency Code': 'USD', '4. To_Currency Name': 'United States Dollar', '5. Exchange Rate': '1.00002938', '6. Last Refreshed': '2023-01-02 13:38:01', '7. Time Zone': 'UTC', '8. Bid Price': '1.00001168', '9. Ask Price': '1.00005203'}}\n"
     ]
    }
   ],
   "source": [
    "for stable in stableList:\n",
    "    data = Data(stable, 'USD', apiKey)\n",
    "    entries.append(Entry(data))"
   ]
  },
  {
   "cell_type": "code",
   "execution_count": 11,
   "id": "dcfd31c4-e3a0-4a93-987f-6ba7f7d3be3e",
   "metadata": {},
   "outputs": [
    {
     "name": "stdout",
     "output_type": "stream",
     "text": [
      "    Code               Name    Type\n",
      "0    TRY       Turkish Lira    Fiat\n",
      "1    JPY       Japanese Yen    Fiat\n",
      "2    CNY       Chinese Yuan    Fiat\n",
      "3    IDR  Indonesian Rupiah    Fiat\n",
      "4    SGD   Singapore Dollar    Fiat\n",
      "5    INR       Indian Rupee    Fiat\n",
      "6    TND     Tunisian Dinar    Fiat\n",
      "7    PKR    Pakistani Rupee    Fiat\n",
      "8    NGN     Nigerian Naira    Fiat\n",
      "9    EUR               Euro    Fiat\n",
      "10   BTC            Bitcoin  Crypto\n",
      "11   ETH           Ethereum  Crypto\n",
      "12   BNB       Binance-Coin  Crypto\n",
      "13   XRP             Ripple  Crypto\n",
      "14  USDT             Tether  Stable\n",
      "15  BUSD        Binance-USD  Stable\n",
      "16  USDC               None  Stable\n"
     ]
    }
   ],
   "source": [
    "df = pd.DataFrame(entries, columns = ['Code', 'Name', 'Type'])\n",
    "print(df)"
   ]
  },
  {
   "cell_type": "code",
   "execution_count": 15,
   "id": "c2e74a3a-e47e-41fc-ab3d-c2e560b17051",
   "metadata": {},
   "outputs": [],
   "source": [
    "df.to_csv('CurrencyInfo.csv')"
   ]
  }
 ],
 "metadata": {
  "kernelspec": {
   "display_name": "Python 3",
   "language": "python",
   "name": "python3"
  },
  "language_info": {
   "codemirror_mode": {
    "name": "ipython",
    "version": 3
   },
   "file_extension": ".py",
   "mimetype": "text/x-python",
   "name": "python",
   "nbconvert_exporter": "python",
   "pygments_lexer": "ipython3",
   "version": "3.9.4"
  }
 },
 "nbformat": 4,
 "nbformat_minor": 5
}
