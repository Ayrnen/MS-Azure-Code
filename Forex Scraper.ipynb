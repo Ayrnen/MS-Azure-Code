{
 "cells": [
  {
   "cell_type": "code",
   "execution_count": 1,
   "id": "5dbedd94-425b-421a-a9aa-ced70833413f",
   "metadata": {},
   "outputs": [],
   "source": [
    "import requests\n",
    "import pandas as pd\n",
    "import numpy as np"
   ]
  },
  {
   "cell_type": "code",
   "execution_count": 2,
   "id": "c7f2d15b-ab6e-4fa1-bdfe-b1edc699cb5c",
   "metadata": {
    "tags": []
   },
   "outputs": [],
   "source": [
    "currencyList = ['USD', 'TRY', 'JPY', 'CNY', 'IDR', 'SGD', 'INR', 'TND', 'PKR', 'NGN', 'EUR']\n",
    "cryptoList = ['BTC', 'ETH', 'BNB', 'XRP']\n",
    "stableList = ['USDT', 'BUSD', 'USDC']\n",
    "\n",
    "dollars = ['USD', 'USDT', 'BUSD', 'USDC']\n",
    "nonDollars = ['TRY', 'JPY', 'CNY', 'IDR', 'SGD', 'INR', 'TND', 'PKR', 'NGN', 'EUR', 'BTC', 'ETH', 'BNB', 'XRP']\n",
    "\n",
    "entries = []"
   ]
  },
  {
   "cell_type": "code",
   "execution_count": 3,
   "id": "286659f2-040d-4efa-8354-9066b3ba0377",
   "metadata": {
    "tags": []
   },
   "outputs": [],
   "source": [
    "apiKey = ''"
   ]
  },
  {
   "cell_type": "code",
   "execution_count": 4,
   "id": "65fe5ce6-52eb-48c8-85e2-c5726735b9ea",
   "metadata": {},
   "outputs": [],
   "source": [
    "def Data(b, t, api):\n",
    "    base = b\n",
    "    to = t\n",
    "    apiKey = api\n",
    "    \n",
    "    url = f'https://www.alphavantage.co/query?function=CURRENCY_EXCHANGE_RATE&from_currency={base}&to_currency={to}&apikey={apiKey}'\n",
    "    response = requests.get(url)\n",
    "    data = response.json()\n",
    "    \n",
    "    print(data)\n",
    "    return data \n",
    "\n",
    "def Entry(data):\n",
    "    entry = [\n",
    "        data['Realtime Currency Exchange Rate']['6. Last Refreshed'],\n",
    "        data['Realtime Currency Exchange Rate']['7. Time Zone'],\n",
    "        data['Realtime Currency Exchange Rate']['1. From_Currency Code'],\n",
    "        data['Realtime Currency Exchange Rate']['3. To_Currency Code'],\n",
    "        float(data['Realtime Currency Exchange Rate']['5. Exchange Rate']),\n",
    "        float(data['Realtime Currency Exchange Rate']['8. Bid Price']),\n",
    "        float(data['Realtime Currency Exchange Rate']['9. Ask Price']),\n",
    "    ]\n",
    "    \n",
    "    return entry"
   ]
  },
  {
   "cell_type": "code",
   "execution_count": 5,
   "id": "7686a12b-0a9d-428d-8106-8aa2954226b2",
   "metadata": {},
   "outputs": [
    {
     "name": "stdout",
     "output_type": "stream",
     "text": [
      "{'Realtime Currency Exchange Rate': {'1. From_Currency Code': 'USD', '2. From_Currency Name': 'United States Dollar', '3. To_Currency Code': 'TRY', '4. To_Currency Name': 'Turkish Lira', '5. Exchange Rate': '18.66250000', '6. Last Refreshed': '2022-12-21 20:14:01', '7. Time Zone': 'UTC', '8. Bid Price': '18.66250000', '9. Ask Price': '18.66250000'}}\n",
      "{'Realtime Currency Exchange Rate': {'1. From_Currency Code': 'USDT', '2. From_Currency Name': 'Tether', '3. To_Currency Code': 'TRY', '4. To_Currency Name': 'Turkish Lira', '5. Exchange Rate': '18.66963099', '6. Last Refreshed': '2022-12-21 20:14:08', '7. Time Zone': 'UTC', '8. Bid Price': '18.66963099', '9. Ask Price': '18.66963099'}}\n",
      "{'Realtime Currency Exchange Rate': {'1. From_Currency Code': 'BUSD', '2. From_Currency Name': 'Binance-USD', '3. To_Currency Code': 'TRY', '4. To_Currency Name': 'Turkish Lira', '5. Exchange Rate': '18.66622519', '6. Last Refreshed': '2022-12-21 20:14:09', '7. Time Zone': 'UTC', '8. Bid Price': '18.66622519', '9. Ask Price': '18.66809200'}}\n",
      "{'Realtime Currency Exchange Rate': {'1. From_Currency Code': 'USDC', '2. From_Currency Name': None, '3. To_Currency Code': 'TRY', '4. To_Currency Name': 'Turkish Lira', '5. Exchange Rate': '18.66684967', '6. Last Refreshed': '2022-12-21 20:14:10', '7. Time Zone': 'UTC', '8. Bid Price': '18.66684967', '9. Ask Price': '18.66684967'}}\n"
     ]
    }
   ],
   "source": [
    "for fiat in nonDollars[0:1]:\n",
    "    if fiat =='TRY':\n",
    "        for dollar in dollars:\n",
    "            data = Data(dollar, fiat, apiKey)\n",
    "            entries.append(Entry(data))"
   ]
  },
  {
   "cell_type": "code",
   "execution_count": 6,
   "id": "b0f39c06-6400-44fb-8474-117e4dedb7d6",
   "metadata": {},
   "outputs": [
    {
     "name": "stdout",
     "output_type": "stream",
     "text": [
      "             Timestamp Timezone  From   To         ER        Bid        Ask\n",
      "0  2022-12-21 20:14:01      UTC   USD  TRY  18.662500  18.662500  18.662500\n",
      "1  2022-12-21 20:14:08      UTC  USDT  TRY  18.669631  18.669631  18.669631\n",
      "2  2022-12-21 20:14:09      UTC  BUSD  TRY  18.666225  18.666225  18.668092\n",
      "3  2022-12-21 20:14:10      UTC  USDC  TRY  18.666850  18.666850  18.666850\n"
     ]
    }
   ],
   "source": [
    "e = pd.DataFrame(entries, columns = ['Timestamp', 'Timezone', 'From', 'To', 'ER', 'Bid', 'Ask'])\n",
    "print(e)"
   ]
  },
  {
   "cell_type": "code",
   "execution_count": 7,
   "id": "c1c37372-7747-4caf-b33f-26b60c7476c5",
   "metadata": {},
   "outputs": [
    {
     "name": "stdout",
     "output_type": "stream",
     "text": [
      "Empty DataFrame\n",
      "Columns: [Timestamp, Timezone, From, To, ER, Bid, Ask]\n",
      "Index: []\n"
     ]
    }
   ],
   "source": [
    "cols = ['Timestamp', 'Timezone', 'From', 'To', 'ER', 'Bid', 'Ask']\n",
    "df = pd.DataFrame(columns = cols)\n",
    "df.append(e, ignore_index = True)\n",
    "print(df)"
   ]
  }
 ],
 "metadata": {
  "kernelspec": {
   "display_name": "Python 3",
   "language": "python",
   "name": "python3"
  },
  "language_info": {
   "codemirror_mode": {
    "name": "ipython",
    "version": 3
   },
   "file_extension": ".py",
   "mimetype": "text/x-python",
   "name": "python",
   "nbconvert_exporter": "python",
   "pygments_lexer": "ipython3",
   "version": "3.9.4"
  }
 },
 "nbformat": 4,
 "nbformat_minor": 5
}
